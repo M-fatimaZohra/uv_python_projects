{
 "cells": [
  {
   "cell_type": "code",
   "execution_count": 4,
   "id": "df9d4467",
   "metadata": {},
   "outputs": [
    {
     "name": "stdout",
     "output_type": "stream",
     "text": [
      "Please type the following affirmation: I am capable of doing anything I put my mind to\n",
      "hmmm...\n",
      "That was not the affirmation.\n",
      "Please type the following affirmation: I am capable of doing anything I put my mind to\n",
      "That's right! :)\n"
     ]
    }
   ],
   "source": [
    "BLUE = '\\033[94m'\n",
    "RESET = '\\033[0m'\n",
    "\n",
    "affermative = \"I am capable of doing anything I put my mind to\"\n",
    "def main():\n",
    "\n",
    "    print(f\"Please type the following affirmation: {affermative}\")\n",
    "    input_affer = input(\"\")\n",
    "\n",
    "    while input_affer != affermative:\n",
    "        print(\"hmmm...\")\n",
    "        print(\"That was not the affirmation.\")\n",
    "        print(f\"Please type the following affirmation: {affermative}\")\n",
    "        input_affer = input(\"\")\n",
    "\n",
    "        if input_affer == affermative:\n",
    "            print(\"That's right! :)\")\n",
    "            break\n",
    "\n",
    "\n",
    "\n",
    "if __name__ == \"__main__\":\n",
    "    main()\n",
    "\n"
   ]
  }
 ],
 "metadata": {
  "kernelspec": {
   "display_name": "Python 3",
   "language": "python",
   "name": "python3"
  },
  "language_info": {
   "codemirror_mode": {
    "name": "ipython",
    "version": 3
   },
   "file_extension": ".py",
   "mimetype": "text/x-python",
   "name": "python",
   "nbconvert_exporter": "python",
   "pygments_lexer": "ipython3",
   "version": "3.12.9"
  }
 },
 "nbformat": 4,
 "nbformat_minor": 5
}
