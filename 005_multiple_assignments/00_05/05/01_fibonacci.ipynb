{
 "cells": [
  {
   "cell_type": "code",
   "execution_count": null,
   "id": "da545668",
   "metadata": {},
   "outputs": [
    {
     "name": "stdout",
     "output_type": "stream",
     "text": [
      "0 1 1 2 3 5 8 13 21 34 55 89 144 233 377 610 987 1597 2584 4181 6765 "
     ]
    }
   ],
   "source": [
    "MAX_VALUE = 10000\n",
    "\n",
    "def main():\n",
    "    current_term, next_term = 0,1\n",
    "\n",
    "\n",
    "    # Print the first term\n",
    "    print(current_term, end=' ')\n",
    "    \n",
    "    # Print the second term and onwards as long as it's less than MAX_VALUE\n",
    "    while next_term < MAX_VALUE:\n",
    "        print(next_term, end=' ')\n",
    "        current_term, next_term = next_term, current_term + next_term\n",
    "\n",
    "\n",
    "\n",
    "if __name__ == '__main__':\n",
    "    main()\n"
   ]
  }
 ],
 "metadata": {
  "kernelspec": {
   "display_name": "Python 3",
   "language": "python",
   "name": "python3"
  },
  "language_info": {
   "codemirror_mode": {
    "name": "ipython",
    "version": 3
   },
   "file_extension": ".py",
   "mimetype": "text/x-python",
   "name": "python",
   "nbconvert_exporter": "python",
   "pygments_lexer": "ipython3",
   "version": "3.12.9"
  }
 },
 "nbformat": 4,
 "nbformat_minor": 5
}
