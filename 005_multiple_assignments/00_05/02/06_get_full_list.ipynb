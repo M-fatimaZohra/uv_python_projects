{
 "cells": [
  {
   "cell_type": "code",
   "execution_count": 10,
   "id": "4d50599d",
   "metadata": {},
   "outputs": [
    {
     "name": "stdout",
     "output_type": "stream",
     "text": [
      "['default']\n"
     ]
    }
   ],
   "source": [
    "\n",
    "\n",
    "\n",
    "def list_getter():\n",
    "   lst =[]\n",
    "   item = input(\"enter text or leave it empty to exit\")\n",
    "   \n",
    "   while item != \"\":\n",
    "      lst.append(item)\n",
    "      item = input(\"enter text or leave it empty to exit\")\n",
    "   \n",
    "   if len(lst) == 0:\n",
    "      lst.append(\"default\")\n",
    "        \n",
    "   return lst\n",
    "\n",
    "   \n",
    "     \n",
    "\n",
    "def main():\n",
    "    lst = list_getter()\n",
    "    print(lst)\n",
    "\n",
    "if __name__ == '__main__':\n",
    "    main()"
   ]
  }
 ],
 "metadata": {
  "kernelspec": {
   "display_name": "Python 3",
   "language": "python",
   "name": "python3"
  },
  "language_info": {
   "codemirror_mode": {
    "name": "ipython",
    "version": 3
   },
   "file_extension": ".py",
   "mimetype": "text/x-python",
   "name": "python",
   "nbconvert_exporter": "python",
   "pygments_lexer": "ipython3",
   "version": "3.12.9"
  }
 },
 "nbformat": 4,
 "nbformat_minor": 5
}
