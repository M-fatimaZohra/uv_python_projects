{
 "cells": [
  {
   "cell_type": "code",
   "execution_count": 1,
   "id": "ebb20d96",
   "metadata": {},
   "outputs": [
    {
     "name": "stdout",
     "output_type": "stream",
     "text": [
      "[]\n",
      "['i love zayne more than sylus', 'i love zayne more than sylus', 'i love zayne more than sylus']\n"
     ]
    }
   ],
   "source": [
    "def add_three_copies(list_obj, data):\n",
    "    for i in range(3):\n",
    "        list_obj.append(data)\n",
    "\n",
    "\n",
    "def main():\n",
    "    message_list =  []\n",
    "    message = input(\"write a message: \")\n",
    "    print(message_list)\n",
    "    add_three_copies(message_list,message)\n",
    "    print(message_list)\n",
    "\n",
    "\n",
    "if __name__ == \"__main__\":\n",
    "    main()"
   ]
  }
 ],
 "metadata": {
  "kernelspec": {
   "display_name": "Python 3",
   "language": "python",
   "name": "python3"
  },
  "language_info": {
   "codemirror_mode": {
    "name": "ipython",
    "version": 3
   },
   "file_extension": ".py",
   "mimetype": "text/x-python",
   "name": "python",
   "nbconvert_exporter": "python",
   "pygments_lexer": "ipython3",
   "version": "3.12.9"
  }
 },
 "nbformat": 4,
 "nbformat_minor": 5
}
