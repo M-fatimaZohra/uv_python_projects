{
 "cells": [
  {
   "cell_type": "code",
   "execution_count": 1,
   "id": "fa8aec5a",
   "metadata": {},
   "outputs": [
    {
     "name": "stdout",
     "output_type": "stream",
     "text": [
      "and i also love myself (not moviational but obsessional love)\n"
     ]
    }
   ],
   "source": [
    "def get_last_element(lst):\n",
    "   print(lst[-1])\n",
    "\n",
    "\n",
    "def list_getter():\n",
    "   lst =[]\n",
    "   item = input(\"enter text or leave it empty to exit\")\n",
    "   \n",
    "   while item != \"\":\n",
    "      lst.append(item)\n",
    "      item = input(\"enter text or leave it empty to exit\")\n",
    "\n",
    "\n",
    "   \n",
    "   if len(lst) == 0:\n",
    "      lst.append(\"default\")\n",
    "      \n",
    "      \n",
    "   return lst\n",
    "\n",
    "   \n",
    "       \n",
    "\n",
    "def main():\n",
    "    lst = list_getter()\n",
    "    get_last_element(lst)\n",
    "if __name__ == '__main__':\n",
    "    main()"
   ]
  }
 ],
 "metadata": {
  "kernelspec": {
   "display_name": "Python 3",
   "language": "python",
   "name": "python3"
  },
  "language_info": {
   "codemirror_mode": {
    "name": "ipython",
    "version": 3
   },
   "file_extension": ".py",
   "mimetype": "text/x-python",
   "name": "python",
   "nbconvert_exporter": "python",
   "pygments_lexer": "ipython3",
   "version": "3.12.9"
  }
 },
 "nbformat": 4,
 "nbformat_minor": 5
}
