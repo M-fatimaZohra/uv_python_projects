{
 "cells": [
  {
   "cell_type": "code",
   "execution_count": 7,
   "id": "8855b23c",
   "metadata": {},
   "outputs": [
    {
     "name": "stdout",
     "output_type": "stream",
     "text": [
      "The sum of the numbers you entered is: 10\n"
     ]
    }
   ],
   "source": [
    "def main():\n",
    "  continue_loop = True\n",
    "  array = []\n",
    "  number = 0\n",
    "  while continue_loop:\n",
    "     input_value = input(\"Enter a number (or 'exit' to quit): \")\n",
    "     if input_value.lower() == 'exit':\n",
    "            continue_loop = False\n",
    "            break\n",
    "     try:\n",
    "         number = int(input_value)\n",
    "\n",
    "     except ValueError:\n",
    "         print(\"Invalid input. Please enter a valid number.\")\n",
    "         continue\n",
    "     else:\n",
    "        array.append(number)\n",
    "        \n",
    "\n",
    "  answer = sum(array)\n",
    "  print(\"The sum of the numbers you entered is:\", answer)\n",
    "\n",
    "\n",
    "\n",
    "  \n",
    "\n",
    "\n",
    "if __name__ == '__main__':\n",
    "    main()"
   ]
  }
 ],
 "metadata": {
  "kernelspec": {
   "display_name": "Python 3",
   "language": "python",
   "name": "python3"
  },
  "language_info": {
   "codemirror_mode": {
    "name": "ipython",
    "version": 3
   },
   "file_extension": ".py",
   "mimetype": "text/x-python",
   "name": "python",
   "nbconvert_exporter": "python",
   "pygments_lexer": "ipython3",
   "version": "3.12.9"
  }
 },
 "nbformat": 4,
 "nbformat_minor": 5
}
