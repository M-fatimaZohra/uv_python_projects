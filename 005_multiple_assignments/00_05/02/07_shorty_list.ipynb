{
 "cells": [
  {
   "cell_type": "code",
   "execution_count": 10,
   "id": "2c9dff5f",
   "metadata": {},
   "outputs": [
    {
     "name": "stdout",
     "output_type": "stream",
     "text": [
      "Removed Hunter\n",
      "Removed Sheriff\n",
      "Removed Merman\n",
      "['Cardiac surgeon', 'Mafia', 'Prince']\n"
     ]
    }
   ],
   "source": [
    "from time import sleep\n",
    "def main():\n",
    "  MAX_LENGTH = 3\n",
    "  positions = ['Cardiac surgeon', 'Mafia', 'Prince', 'Merman', 'Sheriff', 'Hunter']\n",
    "  \n",
    "  while len(positions) > MAX_LENGTH:\n",
    "     popped = positions.pop()\n",
    "     print(f\"Removed {popped}\")\n",
    "     sleep(0.5)\n",
    "  print(positions)\n",
    "\n",
    "if __name__ == '__main__':\n",
    "    main()"
   ]
  }
 ],
 "metadata": {
  "kernelspec": {
   "display_name": "Python 3",
   "language": "python",
   "name": "python3"
  },
  "language_info": {
   "codemirror_mode": {
    "name": "ipython",
    "version": 3
   },
   "file_extension": ".py",
   "mimetype": "text/x-python",
   "name": "python",
   "nbconvert_exporter": "python",
   "pygments_lexer": "ipython3",
   "version": "3.12.9"
  }
 },
 "nbformat": 4,
 "nbformat_minor": 5
}
