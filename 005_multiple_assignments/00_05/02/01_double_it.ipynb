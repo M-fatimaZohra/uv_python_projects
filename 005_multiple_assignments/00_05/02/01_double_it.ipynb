{
 "cells": [
  {
   "cell_type": "code",
   "execution_count": 1,
   "id": "1f90232b",
   "metadata": {},
   "outputs": [
    {
     "name": "stdout",
     "output_type": "stream",
     "text": [
      "Original numbers: [1, 2, 3, 4]\n",
      "Processing numbers:\n",
      "multiply by 2: [2, 4, 6, 8]\n"
     ]
    }
   ],
   "source": [
    "def main():\n",
    "   numbers = [1, 2, 3, 4]\n",
    "   print(f\"Original numbers: {numbers}\")\n",
    "   print(\"Processing numbers:\")\n",
    "\n",
    "   even =[]\n",
    "\n",
    "   for number in numbers:\n",
    "       number = number*2\n",
    "\n",
    "       even.append(number)\n",
    "\n",
    "   print(f\"multiply by 2: {even}\")\n",
    "       \n",
    "if __name__ == '__main__':\n",
    "    main()"
   ]
  }
 ],
 "metadata": {
  "kernelspec": {
   "display_name": "Python 3",
   "language": "python",
   "name": "python3"
  },
  "language_info": {
   "codemirror_mode": {
    "name": "ipython",
    "version": 3
   },
   "file_extension": ".py",
   "mimetype": "text/x-python",
   "name": "python",
   "nbconvert_exporter": "python",
   "pygments_lexer": "ipython3",
   "version": "3.12.9"
  }
 },
 "nbformat": 4,
 "nbformat_minor": 5
}
