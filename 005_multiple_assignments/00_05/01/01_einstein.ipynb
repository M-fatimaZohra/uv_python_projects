{
 "cells": [
  {
   "cell_type": "code",
   "execution_count": 10,
   "id": "0d5173e6",
   "metadata": {},
   "outputs": [
    {
     "name": "stdout",
     "output_type": "stream",
     "text": [
      "The energy equivalent of the mass is: 8.988e+16 Joules\n"
     ]
    }
   ],
   "source": [
    "def main():\n",
    "   \n",
    "\n",
    "   C = 299792458 #m/s\n",
    "   \n",
    "   try:\n",
    "      mass = int(input(\"Enter the mass of the object in kg: \"))\n",
    "\n",
    "   except ValueError:\n",
    "        print(\"Invalid input. Please enter a valid integer for mass.\")\n",
    "        return\n",
    "   \n",
    "   else:\n",
    "       e = mass * (C**2)\n",
    "       print(f\"The energy equivalent of the mass is: {e:.3e} Joules\")\n",
    "     \n",
    "   \n",
    "\n",
    "if __name__ == '__main__':\n",
    "    main()"
   ]
  }
 ],
 "metadata": {
  "kernelspec": {
   "display_name": "Python 3",
   "language": "python",
   "name": "python3"
  },
  "language_info": {
   "codemirror_mode": {
    "name": "ipython",
    "version": 3
   },
   "file_extension": ".py",
   "mimetype": "text/x-python",
   "name": "python",
   "nbconvert_exporter": "python",
   "pygments_lexer": "ipython3",
   "version": "3.12.9"
  }
 },
 "nbformat": 4,
 "nbformat_minor": 5
}
