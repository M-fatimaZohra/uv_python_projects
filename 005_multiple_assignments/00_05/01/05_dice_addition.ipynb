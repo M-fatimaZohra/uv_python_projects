{
 "cells": [
  {
   "cell_type": "code",
   "execution_count": 29,
   "id": "e11a9e91",
   "metadata": {},
   "outputs": [
    {
     "name": "stdout",
     "output_type": "stream",
     "text": [
      "You got on dice one: 1\n",
      "You got on dice two: 6\n",
      "The sum of the two dice is: 7\n"
     ]
    }
   ],
   "source": [
    "import random\n",
    "\n",
    "\n",
    "def dice_roll():\n",
    "    dice_1 = random.randint(1, 6)\n",
    "    dice_2 = random.randint(1, 6)\n",
    "    return dice_1, dice_2\n",
    "\n",
    "dice_1, dice_2 = dice_roll()\n",
    "\n",
    "def main():\n",
    "   \n",
    "   print(f\"You got on dice one: {dice_1}\")\n",
    "   print(f\"You got on dice two: {dice_2}\")\n",
    "\n",
    "   add = dice_1 + dice_2\n",
    "   print(f\"The sum of the two dice is: {add}\")\n",
    "\n",
    "\n",
    "if __name__ == \"__main__\":\n",
    "    main()"
   ]
  }
 ],
 "metadata": {
  "kernelspec": {
   "display_name": "Python 3",
   "language": "python",
   "name": "python3"
  },
  "language_info": {
   "codemirror_mode": {
    "name": "ipython",
    "version": 3
   },
   "file_extension": ".py",
   "mimetype": "text/x-python",
   "name": "python",
   "nbconvert_exporter": "python",
   "pygments_lexer": "ipython3",
   "version": "3.12.9"
  }
 },
 "nbformat": 4,
 "nbformat_minor": 5
}
