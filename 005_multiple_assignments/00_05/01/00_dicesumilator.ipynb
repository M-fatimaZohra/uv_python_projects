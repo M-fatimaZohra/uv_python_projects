{
 "cells": [
  {
   "cell_type": "code",
   "execution_count": 17,
   "id": "85ec23b3",
   "metadata": {},
   "outputs": [
    {
     "name": "stdout",
     "output_type": "stream",
     "text": [
      "Roll the Dice!\n",
      "Press Enter to roll the dice...\n",
      "Rolling  ⚅\n",
      "\n",
      "1)You got: 5 3\n",
      "2)You got: 5 5\n",
      "3)You got: 2 2\n"
     ]
    }
   ],
   "source": [
    "import random\n",
    "from time import sleep\n",
    "\n",
    "def dice_roll():\n",
    "    dice_1 = random.randint(1, 6)\n",
    "    dice_2 = random.randint(1, 6)\n",
    "    return dice_1, dice_2\n",
    "\n",
    "\n",
    "\n",
    "\n",
    "def main():\n",
    "   print(\"Roll the Dice!\")\n",
    "   sleep(0.5)\n",
    "   print(\"Press Enter to roll the dice...\")\n",
    "   for i in range(3):\n",
    "       print(\"Rolling  ⚀\",end=\"\\r\")\n",
    "       sleep(0.5)\n",
    "       print(\"Rolling  ⚁\",end=\"\\r\")\n",
    "       sleep(0.5)\n",
    "       print(\"Rolling  ⚂\",end=\"\\r\")\n",
    "       sleep(0.5)\n",
    "       print(\"Rolling  ⚃\",end=\"\\r\")\n",
    "       sleep(0.5)\n",
    "       print(\"Rolling  ⚄\",end=\"\\r\")\n",
    "       sleep(0.5)\n",
    "       print(\"Rolling  ⚅\",end=\"\\r\") \n",
    "\n",
    "   print(\"\\n\")\n",
    "   print(f\"1)You got: {dice_roll()[0]} {dice_roll()[1]}\")\n",
    "   sleep(0.5)\n",
    "   print(f\"2)You got: {dice_roll()[0]} {dice_roll()[1]}\")\n",
    "   sleep(0.5)\n",
    "   print(f\"3)You got: {dice_roll()[0]} {dice_roll()[1]}\")\n",
    "\n",
    "\n",
    "if __name__ == '__main__':\n",
    "    main()"
   ]
  }
 ],
 "metadata": {
  "kernelspec": {
   "display_name": "Python 3",
   "language": "python",
   "name": "python3"
  },
  "language_info": {
   "codemirror_mode": {
    "name": "ipython",
    "version": 3
   },
   "file_extension": ".py",
   "mimetype": "text/x-python",
   "name": "python",
   "nbconvert_exporter": "python",
   "pygments_lexer": "ipython3",
   "version": "3.12.9"
  }
 },
 "nbformat": 4,
 "nbformat_minor": 5
}
