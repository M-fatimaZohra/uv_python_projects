{
 "cells": [
  {
   "cell_type": "code",
   "execution_count": 6,
   "id": "4022e81b",
   "metadata": {},
   "outputs": [
    {
     "name": "stdout",
     "output_type": "stream",
     "text": [
      "The answer is: 0.6285714285714286\n",
      "The reminder is: 22\n"
     ]
    }
   ],
   "source": [
    "def main():\n",
    "\n",
    "\n",
    "    try:\n",
    "        first_number = int(input(\"Enter the first number(numinator): \"))\n",
    "        second_number = int(input(\"Enter the second number(denominator): \"))\n",
    "        \n",
    "        answer = first_number / second_number\n",
    "        reminder = first_number % second_number\n",
    "    except ValueError:\n",
    "        print(\"Invalid input. Please enter valid integers.\")\n",
    "        return\n",
    "    except ZeroDivisionError:\n",
    "        print(\"Division by zero is not allowed.\")\n",
    "        return\n",
    "    \n",
    "    else:\n",
    "        print(f\"The answer is: {answer}\")\n",
    "        print(f\"The reminder is: {reminder}\")\n",
    "\n",
    "\n",
    "\n",
    "\n",
    "if __name__ == \"__main__\":\n",
    "    main()"
   ]
  }
 ],
 "metadata": {
  "kernelspec": {
   "display_name": "Python 3",
   "language": "python",
   "name": "python3"
  },
  "language_info": {
   "codemirror_mode": {
    "name": "ipython",
    "version": 3
   },
   "file_extension": ".py",
   "mimetype": "text/x-python",
   "name": "python",
   "nbconvert_exporter": "python",
   "pygments_lexer": "ipython3",
   "version": "3.12.9"
  }
 },
 "nbformat": 4,
 "nbformat_minor": 5
}
