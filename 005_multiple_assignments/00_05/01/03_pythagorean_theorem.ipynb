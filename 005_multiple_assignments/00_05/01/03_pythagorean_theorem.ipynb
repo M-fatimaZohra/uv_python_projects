{
 "cells": [
  {
   "cell_type": "code",
   "execution_count": null,
   "id": "63c09722",
   "metadata": {},
   "outputs": [
    {
     "name": "stdout",
     "output_type": "stream",
     "text": [
      "The length of side BC is: 24.60\n"
     ]
    }
   ],
   "source": [
    "import math\n",
    "\n",
    "def main():\n",
    "\n",
    "   \n",
    "   try:\n",
    "    AB = int(input(\"Enter the length of side AB: \"))\n",
    "    AC = int(input(\"Enter the length of side AC: \"))\n",
    "    BC = math.sqrt(AB**2 + AC**2)\n",
    "     \n",
    "\n",
    "    \n",
    "   except ValueError:\n",
    "    print(\"Please enter valid integer values for the lengths of the sides.\")\n",
    "   else:\n",
    "     print(f\"The length of side BC is: {BC:.2f}\")\n",
    "\n",
    "  \n",
    "\n",
    "if __name__ == \"__main__\":\n",
    "    main()"
   ]
  }
 ],
 "metadata": {
  "kernelspec": {
   "display_name": "Python 3",
   "language": "python",
   "name": "python3"
  },
  "language_info": {
   "codemirror_mode": {
    "name": "ipython",
    "version": 3
   },
   "file_extension": ".py",
   "mimetype": "text/x-python",
   "name": "python",
   "nbconvert_exporter": "python",
   "pygments_lexer": "ipython3",
   "version": "3.12.9"
  }
 },
 "nbformat": 4,
 "nbformat_minor": 5
}
