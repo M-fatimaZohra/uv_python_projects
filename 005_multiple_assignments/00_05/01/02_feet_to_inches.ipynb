{
 "cells": [
  {
   "cell_type": "code",
   "execution_count": null,
   "id": "eebf7886",
   "metadata": {},
   "outputs": [],
   "source": [
    "def main():\n",
    "\n",
    "    try:\n",
    "        feet = float(input(\"Enter the number of feet: \"))    \n",
    "        inches = feet * 12\n",
    "    except ValueError:\n",
    "        print(\"Invalid input. Please enter a numeric value.\")\n",
    "        return\n",
    "    \n",
    "    else:\n",
    "        print(f\"{feet} feet is equal to {inches} inches.\")\n",
    "\n",
    "\n",
    "\n",
    "\n",
    "if __name__ == \"__main__\":\n",
    "    main()"
   ]
  }
 ],
 "metadata": {
  "language_info": {
   "name": "python"
  }
 },
 "nbformat": 4,
 "nbformat_minor": 5
}
