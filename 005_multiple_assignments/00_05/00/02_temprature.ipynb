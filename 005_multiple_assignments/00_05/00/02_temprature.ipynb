{
 "cells": [
  {
   "cell_type": "code",
   "execution_count": null,
   "id": "d75e770f",
   "metadata": {},
   "outputs": [
    {
     "name": "stdout",
     "output_type": "stream",
     "text": [
      "100.0 degrees Fahrenheit is 37.78 degrees Celsius.\n"
     ]
    }
   ],
   "source": [
    "def main():\n",
    "    fahrenheit = float(input(\"Enter temperature in fahrenheit: \"))\n",
    "\n",
    "    celsius = (fahrenheit - 32) * 5 / 9\n",
    "\n",
    "    print(f\"{fahrenheit} degrees Fahrenheit is {celsius:.2f} degrees Celsius.\")\n",
    "\n",
    "    # \"\":.2f\"  this is use to formate output to 2 decimal place\n",
    "if __name__ == '__main__':\n",
    "    main()"
   ]
  }
 ],
 "metadata": {
  "kernelspec": {
   "display_name": "Python 3",
   "language": "python",
   "name": "python3"
  },
  "language_info": {
   "codemirror_mode": {
    "name": "ipython",
    "version": 3
   },
   "file_extension": ".py",
   "mimetype": "text/x-python",
   "name": "python",
   "nbconvert_exporter": "python",
   "pygments_lexer": "ipython3",
   "version": "3.12.9"
  }
 },
 "nbformat": 4,
 "nbformat_minor": 5
}
