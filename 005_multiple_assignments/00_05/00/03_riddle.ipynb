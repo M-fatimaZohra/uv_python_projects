{
 "cells": [
  {
   "cell_type": "code",
   "execution_count": null,
   "id": "a0ad9ab8",
   "metadata": {},
   "outputs": [
    {
     "name": "stdout",
     "output_type": "stream",
     "text": [
      "Anton is 21\n",
      "Beth is 27\n",
      "Chen is 47\n",
      "drew is 68\n",
      "Ethan is 47\n"
     ]
    }
   ],
   "source": [
    "def main():\n",
    "    \"\"\"make Friends Riddle\"\"\"\n",
    "\n",
    "    anton = 21\n",
    "    beth  = 6  + anton\n",
    "    chen  = 20 + beth\n",
    "    drew  = chen + anton\n",
    "    ethan = chen\n",
    "\n",
    "\n",
    "    print(\"Anton is \"+ str(anton))\n",
    "    print(\"Beth is \"+ str(beth))\n",
    "    print(\"Chen is \"+ str(chen))\n",
    "    print(\"Drew is \"+ str(drew))\n",
    "    print(\"Ethan is \"+ str(ethan))\n",
    "\n",
    "\n",
    "if __name__ ==\"__main__\":\n",
    "    main()"
   ]
  }
 ],
 "metadata": {
  "kernelspec": {
   "display_name": "Python 3",
   "language": "python",
   "name": "python3"
  },
  "language_info": {
   "codemirror_mode": {
    "name": "ipython",
    "version": 3
   },
   "file_extension": ".py",
   "mimetype": "text/x-python",
   "name": "python",
   "nbconvert_exporter": "python",
   "pygments_lexer": "ipython3",
   "version": "3.12.9"
  }
 },
 "nbformat": 4,
 "nbformat_minor": 5
}
