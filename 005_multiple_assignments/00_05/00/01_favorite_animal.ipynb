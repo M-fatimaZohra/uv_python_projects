{
 "cells": [
  {
   "cell_type": "code",
   "execution_count": null,
   "id": "431e83ae",
   "metadata": {},
   "outputs": [
    {
     "name": "stdout",
     "output_type": "stream",
     "text": [
      "Wow my favorite animal is also dog\n"
     ]
    }
   ],
   "source": [
    "def main():\n",
    "    your_favorite_animal = input(\"What is your favorite Animal?: \")\n",
    "\n",
    "   \n",
    "    if not your_favorite_animal.isalpha():\n",
    "\n",
    "        return  print(\"That is not a animal name, they all should be in string\") \n",
    "    \n",
    "    else:\n",
    "        print(\"Wow my favorite animal is also \" + your_favorite_animal)\n",
    "        \n",
    "if __name__ == '__main__':\n",
    "    main()"
   ]
  }
 ],
 "metadata": {
  "kernelspec": {
   "display_name": "Python 3",
   "language": "python",
   "name": "python3"
  },
  "language_info": {
   "codemirror_mode": {
    "name": "ipython",
    "version": 3
   },
   "file_extension": ".py",
   "mimetype": "text/x-python",
   "name": "python",
   "nbconvert_exporter": "python",
   "pygments_lexer": "ipython3",
   "version": "3.12.9"
  }
 },
 "nbformat": 4,
 "nbformat_minor": 5
}
