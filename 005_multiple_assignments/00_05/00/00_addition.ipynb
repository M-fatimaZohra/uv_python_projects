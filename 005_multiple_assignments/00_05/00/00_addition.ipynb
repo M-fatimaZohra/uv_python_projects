{
 "cells": [
  {
   "cell_type": "code",
   "execution_count": 10,
   "id": "6e5ed736",
   "metadata": {},
   "outputs": [
    {
     "name": "stdout",
     "output_type": "stream",
     "text": [
      "The total is 44.\n",
      "Thank you for using the addition program.\n"
     ]
    }
   ],
   "source": [
    "def main():\n",
    "    input_1 = input(\"Enter the first number: \")\n",
    "    input_2 = input(\"Enter the second number: \")\n",
    "\n",
    "    try:\n",
    "        number_1 = int(input_1)\n",
    "        number_2 = int(input_2)\n",
    "        result = number_1 + number_2\n",
    "\n",
    "    except ValueError:\n",
    "        print(\"Invalid input. Please enter valid integers.\")\n",
    "        return\n",
    "    else:\n",
    "        print(\"The total is \" + str(result) + \".\")\n",
    "\n",
    "    finally:\n",
    "        print(\"Thank you for using the addition program.\")\n",
    "\n",
    "\n",
    "if __name__ == '__main__':\n",
    "    main()"
   ]
  }
 ],
 "metadata": {
  "kernelspec": {
   "display_name": "Python 3",
   "language": "python",
   "name": "python3"
  },
  "language_info": {
   "codemirror_mode": {
    "name": "ipython",
    "version": 3
   },
   "file_extension": ".py",
   "mimetype": "text/x-python",
   "name": "python",
   "nbconvert_exporter": "python",
   "pygments_lexer": "ipython3",
   "version": "3.12.9"
  }
 },
 "nbformat": 4,
 "nbformat_minor": 5
}
