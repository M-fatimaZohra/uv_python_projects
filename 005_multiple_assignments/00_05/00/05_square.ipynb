{
 "cells": [
  {
   "cell_type": "code",
   "execution_count": null,
   "id": "e006f474",
   "metadata": {},
   "outputs": [
    {
     "name": "stdout",
     "output_type": "stream",
     "text": [
      "33 squared is 1089.0\n"
     ]
    }
   ],
   "source": [
    "def main():\n",
    "    see_square = input(\"Type a number to see its square: \")\n",
    "    try:\n",
    "        s = float(see_square)\n",
    "        s = s**2\n",
    "\n",
    "    except ValueError:\n",
    "        print(\"Please enter a valid number.\")\n",
    "\n",
    "    else:\n",
    "        print(f\"{float(see_square):.1f} squared is {s:.1f}\")\n",
    "        \n",
    "\n",
    "\n",
    "    \n",
    "\n",
    "if __name__ == '__main__':\n",
    "    main()"
   ]
  }
 ],
 "metadata": {
  "kernelspec": {
   "display_name": "Python 3",
   "language": "python",
   "name": "python3"
  },
  "language_info": {
   "codemirror_mode": {
    "name": "ipython",
    "version": 3
   },
   "file_extension": ".py",
   "mimetype": "text/x-python",
   "name": "python",
   "nbconvert_exporter": "python",
   "pygments_lexer": "ipython3",
   "version": "3.12.9"
  }
 },
 "nbformat": 4,
 "nbformat_minor": 5
}
