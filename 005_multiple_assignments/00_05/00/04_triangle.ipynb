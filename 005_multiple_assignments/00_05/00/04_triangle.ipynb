{
 "cells": [
  {
   "cell_type": "code",
   "execution_count": null,
   "id": "778d0b00",
   "metadata": {},
   "outputs": [
    {
     "name": "stdout",
     "output_type": "stream",
     "text": [
      "The parameter of triangle od 88.0.\n",
      "Thank you for using the addition program.\n"
     ]
    }
   ],
   "source": [
    "def main():\n",
    "    input_1 = input(\"Enter the length of first side of triangle: \")\n",
    "    input_2 = input(\"Enter the length of second side of triangle: \")\n",
    "    input_3 = input(\"Enter the length of third side of triangle: \")\n",
    "    \n",
    "\n",
    "    try:\n",
    "        number_1 = float(input_1)\n",
    "        number_2 = float(input_2)\n",
    "        number_3 = float(input_3)\n",
    "\n",
    "        result = number_1 + number_2 + number_3\n",
    "\n",
    "    except ValueError:\n",
    "        print(\"Invalid input. Please enter valid number.\")\n",
    "        return\n",
    "    else:\n",
    "        print(\"The perimeter of the triangle is \" + str(result))\n",
    "\n",
    "    finally:\n",
    "        print(\"Thank you for using the addition program.\")\n",
    "\n",
    "\n",
    "if __name__ == '__main__':\n",
    "    main()"
   ]
  }
 ],
 "metadata": {
  "kernelspec": {
   "display_name": "Python 3",
   "language": "python",
   "name": "python3"
  },
  "language_info": {
   "codemirror_mode": {
    "name": "ipython",
    "version": 3
   },
   "file_extension": ".py",
   "mimetype": "text/x-python",
   "name": "python",
   "nbconvert_exporter": "python",
   "pygments_lexer": "ipython3",
   "version": "3.12.9"
  }
 },
 "nbformat": 4,
 "nbformat_minor": 5
}
