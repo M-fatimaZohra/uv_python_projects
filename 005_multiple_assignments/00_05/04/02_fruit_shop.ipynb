{
 "cells": [
  {
   "cell_type": "code",
   "execution_count": 17,
   "id": "6ef2be38",
   "metadata": {},
   "outputs": [
    {
     "name": "stdout",
     "output_type": "stream",
     "text": [
      "\n",
      "items  | QTY | total with qty\n",
      "    \n",
      "apple  |  1  | 10.5$\n",
      "durian  |  2  | 50$\n",
      "jackfruit  |  3  | 60$\n",
      "kiwi  |  4  | 32$\n",
      "rambutan  |  5  | 32.5$\n",
      "mango  |  6  | 42\n",
      "\n",
      "               total = 227.0$\n",
      "\n",
      "\n"
     ]
    }
   ],
   "source": [
    "fruits = {\n",
    "    \"apple\": 10.5,\n",
    "    \"durian\": 25,\n",
    "    \"jackfruit\": 20,\n",
    "    \"kiwi\": 8,\n",
    "    \"rambutan\": 6.5,\n",
    "    \"mango\": 7\n",
    "}\n",
    "\n",
    "\n",
    "BOLD = \"\\033[1m\"\n",
    "ITALIC = \"\\033[3m\"\n",
    "RESET = \"\\033[0m\"\n",
    "\n",
    "def main():\n",
    "    list_up = []\n",
    "    total = 0\n",
    "    for i in fruits:\n",
    "       \n",
    "\n",
    "        input_fruit = input(f\"How many {i} you want? ({fruits[i]} per each {i}): \")\n",
    "        try:\n",
    "            qty = int(input_fruit)\n",
    "            prize = fruits[i]\n",
    "\n",
    "\n",
    "        except ValueError: \n",
    "            print(\"Invalid Input: qty must be in integers\")\n",
    "            continue\n",
    "\n",
    "        else:\n",
    "            count = prize*qty\n",
    "            total = total + count \n",
    "            list_up.append(f\"\\n{i}  |  {qty}  | {count}\")\n",
    "\n",
    "\n",
    "\n",
    "    \n",
    "    open_list = \"$\".join(list_up)\n",
    "    print(f'''\n",
    "items  | QTY | total with qty\n",
    "    {open_list}\n",
    "\n",
    "               total = {total}$\n",
    "\n",
    "''')\n",
    "            \n",
    "           \n",
    "\n",
    "\n",
    "\n",
    "\n",
    "\n",
    "\n",
    "if __name__ == \"__main__\":\n",
    "    main()"
   ]
  },
  {
   "cell_type": "code",
   "execution_count": null,
   "id": "b7bb7eee",
   "metadata": {},
   "outputs": [],
   "source": []
  }
 ],
 "metadata": {
  "kernelspec": {
   "display_name": "Python 3",
   "language": "python",
   "name": "python3"
  },
  "language_info": {
   "codemirror_mode": {
    "name": "ipython",
    "version": 3
   },
   "file_extension": ".py",
   "mimetype": "text/x-python",
   "name": "python",
   "nbconvert_exporter": "python",
   "pygments_lexer": "ipython3",
   "version": "3.12.9"
  }
 },
 "nbformat": 4,
 "nbformat_minor": 5
}
