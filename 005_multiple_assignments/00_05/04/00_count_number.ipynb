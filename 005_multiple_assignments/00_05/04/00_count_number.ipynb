{
 "cells": [
  {
   "cell_type": "code",
   "execution_count": 3,
   "id": "62033b31",
   "metadata": {},
   "outputs": [
    {
     "name": "stdout",
     "output_type": "stream",
     "text": [
      "2 appears 2 times.\n",
      "4 appears 4 times.\n",
      "1 appears 1 times.\n",
      "3 appears 1 times.\n",
      "5 appears 1 times.\n"
     ]
    }
   ],
   "source": [
    "def main():\n",
    "    BLUE = '\\033[94m'\n",
    "    RESET = '\\033[0m'\n",
    "    counter = {}\n",
    "\n",
    "    while True:\n",
    "        enter_number = input(f\"{BLUE}Enter a Number to start or just empty enter to exit{RESET}\") \n",
    "\n",
    "        if enter_number == \"\":\n",
    "            break\n",
    "\n",
    "        try:\n",
    "            number = int(enter_number)\n",
    "        except ValueError:\n",
    "            print(\"Please enter a valid number.\")\n",
    "            continue\n",
    "\n",
    "        else:\n",
    "            \n",
    "            counter[number] = counter.get(number, 0) + 1  #counter[number] are number i enter,   counter.get(number, 0) + 1 are quantities of that numbers\n",
    "\n",
    "\n",
    "\n",
    "    for number, count in counter.items():\n",
    "        print(f\"{number} appears {count} times.\")\n",
    "\n",
    "\n",
    "if __name__ == \"__main__\":\n",
    "    main()"
   ]
  }
 ],
 "metadata": {
  "kernelspec": {
   "display_name": "Python 3",
   "language": "python",
   "name": "python3"
  },
  "language_info": {
   "codemirror_mode": {
    "name": "ipython",
    "version": 3
   },
   "file_extension": ".py",
   "mimetype": "text/x-python",
   "name": "python",
   "nbconvert_exporter": "python",
   "pygments_lexer": "ipython3",
   "version": "3.12.9"
  }
 },
 "nbformat": 4,
 "nbformat_minor": 5
}
