{
 "cells": [
  {
   "cell_type": "code",
   "execution_count": 5,
   "id": "3d1dc8e8",
   "metadata": {},
   "outputs": [
    {
     "name": "stdout",
     "output_type": "stream",
     "text": [
      "sylus -> 12565\n",
      "sylus -----> 12565\n"
     ]
    }
   ],
   "source": [
    "def enter_phone_no():\n",
    "    phonebook = {}                   \n",
    "    while True:\n",
    "        name = input(\"Enter Name: \").strip().lower()\n",
    "        if name == \"\":\n",
    "            break\n",
    "        number = input(\"Enter Number: \").lower()\n",
    "\n",
    "        phonebook[name] = number\n",
    "\n",
    "    return phonebook\n",
    "\n",
    "\n",
    "def print_phonebook(phonebook):\n",
    "    for name in phonebook:\n",
    "        print(str(name) + \" -> \" + str(phonebook[name]))\n",
    "\n",
    "\n",
    "def search_numbers(phonebook):\n",
    "    while True:\n",
    "        name = input(\"Enter name to lookup number: \").lower()\n",
    "        if name == \"\":\n",
    "            break\n",
    "        if name not in phonebook:\n",
    "            print(f\"404: {name} is not in the phonebook\")\n",
    "        else:\n",
    "            print(f\"{name} -----> {phonebook[name]}\")\n",
    "\n",
    "\n",
    "def main():\n",
    "    phonebook = enter_phone_no()\n",
    "    print_phonebook(phonebook)\n",
    "    search_numbers(phonebook)\n",
    "\n",
    "\n",
    "# Python boilerplate.\n",
    "if __name__ == '__main__':\n",
    "    main()"
   ]
  }
 ],
 "metadata": {
  "kernelspec": {
   "display_name": "Python 3",
   "language": "python",
   "name": "python3"
  },
  "language_info": {
   "codemirror_mode": {
    "name": "ipython",
    "version": 3
   },
   "file_extension": ".py",
   "mimetype": "text/x-python",
   "name": "python",
   "nbconvert_exporter": "python",
   "pygments_lexer": "ipython3",
   "version": "3.12.9"
  }
 },
 "nbformat": 4,
 "nbformat_minor": 5
}
