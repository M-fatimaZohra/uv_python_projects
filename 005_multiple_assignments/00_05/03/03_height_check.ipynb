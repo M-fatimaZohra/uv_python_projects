{
 "cells": [
  {
   "cell_type": "code",
   "execution_count": null,
   "id": "75d5eb5b",
   "metadata": {},
   "outputs": [],
   "source": [
    "\n",
    "BOLD = \"\\033[1m\"\n",
    "ITALIC = \"\\033[3m\"\n",
    "RESET = \"\\033[0m\"\n",
    "def main():\n",
    "  \n",
    "    MINIMUM_HEIGHT = 50\n",
    "    while True:\n",
    "        response = input(f\"{BOLD}{ITALIC}How tall are you? {RESET}\")\n",
    "        if response == \"\":      \n",
    "            break\n",
    "        try:\n",
    "            your_height = int(response)\n",
    "        \n",
    "        except ValueError:\n",
    "            print(\"Invalid Input, value must be in numbers only\")\n",
    "            continue\n",
    "\n",
    "        else:\n",
    "            if your_height >= MINIMUM_HEIGHT:\n",
    "                print(\"You're tall enough to ride!\") \n",
    "\n",
    "            else:\n",
    "                print(\"You're not tall enough to ride, but maybe next year!\") \n",
    "\n",
    "\n",
    "\n",
    "if __name__ == '__main__':\n",
    "    main()"
   ]
  }
 ],
 "metadata": {
  "kernelspec": {
   "display_name": "Python 3",
   "language": "python",
   "name": "python3"
  },
  "language_info": {
   "codemirror_mode": {
    "name": "ipython",
    "version": 3
   },
   "file_extension": ".py",
   "mimetype": "text/x-python",
   "name": "python",
   "nbconvert_exporter": "python",
   "pygments_lexer": "ipython3",
   "version": "3.12.9"
  }
 },
 "nbformat": 4,
 "nbformat_minor": 5
}
