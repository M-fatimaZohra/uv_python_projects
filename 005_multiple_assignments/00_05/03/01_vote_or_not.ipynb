{
 "cells": [
  {
   "cell_type": "code",
   "execution_count": null,
   "id": "24f0b4c0",
   "metadata": {},
   "outputs": [
    {
     "name": "stdout",
     "output_type": "stream",
     "text": [
      "you can vote at Peturksbouipo, as the age of voting is 16 so you are eligible\n",
      "but you cannot vote at Stanlau, as the age of voting is 25 so you are not eligible\n",
      "but you cannot vote at Mayengua, as the age of voting is 48 so you are not eligible\n"
     ]
    }
   ],
   "source": [
    "def main():\n",
    "    Peturksbouipo = 16\n",
    "    Stanlau       = 25\n",
    "    Mayengua      = 48\n",
    "\n",
    "\n",
    "   \n",
    "    \n",
    "    try:\n",
    "        tell_age = int(input(\"How old are you? \"))\n",
    "\n",
    "    except ValueError:\n",
    "        print(\"Invalid input. Please enter a valid integer for mass.\")\n",
    "        return\n",
    "    \n",
    "    else:\n",
    "\n",
    "        print( f\"your age: {tell_age}\")\n",
    "\n",
    "        if  tell_age >= Peturksbouipo:\n",
    "            print(f\"you can vote at Peturksbouipo where the age of voting is {Peturksbouipo}\")\n",
    "\n",
    "        else:\n",
    "            print(f\"you cannot vote at Peturksbouipo where the age of voting is {Peturksbouipo}\")\n",
    "\n",
    "        if  tell_age >= Stanlau:\n",
    "            print(f\"you can vote at Stanlau where the age of voting is {Stanlau} \")\n",
    "        else:\n",
    "            print(f\"but you cannot vote at Stanlau where the age of voting is {Stanlau} \")\n",
    "\n",
    "        if  tell_age >= Mayengua:\n",
    "            print(f\"you can vote at Mayengua where the age of voting is {Mayengua} \")\n",
    "\n",
    "        else:\n",
    "            print(f\"but you cannot vote at Mayengua where the age of voting is {Mayengua} \")\n",
    "\n",
    "\n",
    "\n",
    "\n",
    "    \n",
    "\n",
    "\n",
    "if __name__ == \"__main__\":\n",
    "    main()"
   ]
  }
 ],
 "metadata": {
  "kernelspec": {
   "display_name": "Python 3",
   "language": "python",
   "name": "python3"
  },
  "language_info": {
   "codemirror_mode": {
    "name": "ipython",
    "version": 3
   },
   "file_extension": ".py",
   "mimetype": "text/x-python",
   "name": "python",
   "nbconvert_exporter": "python",
   "pygments_lexer": "ipython3",
   "version": "3.12.9"
  }
 },
 "nbformat": 4,
 "nbformat_minor": 5
}
