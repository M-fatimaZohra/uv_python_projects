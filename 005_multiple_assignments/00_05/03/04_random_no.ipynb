{
 "cells": [
  {
   "cell_type": "code",
   "execution_count": 1,
   "id": "7a6a6f4c",
   "metadata": {},
   "outputs": [
    {
     "name": "stdout",
     "output_type": "stream",
     "text": [
      "33 48 25 25 7 36 38 20 47 12\n"
     ]
    }
   ],
   "source": [
    "import random\n",
    "\n",
    "\n",
    "\n",
    "\n",
    "def main():\n",
    "    list_random = []\n",
    "    N_NUMBERS : int = 10\n",
    "    MIN_VALUE : int = 1\n",
    "    MAX_VALUE : int = 100\n",
    "\n",
    "    for i in range(N_NUMBERS):\n",
    "        random_no = random.randint(MIN_VALUE,MAX_VALUE)\n",
    "        list_random.append(random_no)\n",
    "\n",
    "\n",
    "\n",
    "    print(*list_random)\n",
    "\n",
    "\n",
    "if __name__== \"__main__\":\n",
    "    main()\n",
    "\n",
    "\n"
   ]
  }
 ],
 "metadata": {
  "kernelspec": {
   "display_name": "Python 3",
   "language": "python",
   "name": "python3"
  },
  "language_info": {
   "codemirror_mode": {
    "name": "ipython",
    "version": 3
   },
   "file_extension": ".py",
   "mimetype": "text/x-python",
   "name": "python",
   "nbconvert_exporter": "python",
   "pygments_lexer": "ipython3",
   "version": "3.12.9"
  }
 },
 "nbformat": 4,
 "nbformat_minor": 5
}
