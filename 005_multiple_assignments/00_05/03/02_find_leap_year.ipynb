{
 "cells": [
  {
   "cell_type": "code",
   "execution_count": null,
   "id": "d307cc32",
   "metadata": {},
   "outputs": [
    {
     "name": "stdout",
     "output_type": "stream",
     "text": [
      "That's a leap year!\n"
     ]
    }
   ],
   "source": [
    "def main():\n",
    "    try:\n",
    "        year = int(input(\"Enter a year (Gregorian): \"))\n",
    "    except ValueError:\n",
    "        print(\"Invalid input. Please enter a valid year.\")\n",
    "        return\n",
    "\n",
    "    if (year % 4 == 0) and (year % 100 != 0 or year % 400 == 0):\n",
    "        print(f\"{year} is a leap year!\")\n",
    "    else:\n",
    "        print(f\"{year} is not a leap year.\")\n",
    "\n",
    "if __name__ == \"__main__\":\n",
    "    main()\n"
   ]
  }
 ],
 "metadata": {
  "kernelspec": {
   "display_name": "Python 3",
   "language": "python",
   "name": "python3"
  },
  "language_info": {
   "codemirror_mode": {
    "name": "ipython",
    "version": 3
   },
   "file_extension": ".py",
   "mimetype": "text/x-python",
   "name": "python",
   "nbconvert_exporter": "python",
   "pygments_lexer": "ipython3",
   "version": "3.12.9"
  }
 },
 "nbformat": 4,
 "nbformat_minor": 5
}
