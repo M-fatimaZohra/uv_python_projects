{
 "cells": [
  {
   "cell_type": "code",
   "execution_count": 4,
   "id": "e33fe96f",
   "metadata": {},
   "outputs": [
    {
     "name": "stdout",
     "output_type": "stream",
     "text": [
      "44 88 176 "
     ]
    }
   ],
   "source": [
    "def main():\n",
    "   input_num = input(\"Enter number to double it\")\n",
    "\n",
    "   try:\n",
    "       curr_value = int(input_num)\n",
    "\n",
    "   except ValueError:\n",
    "       print(\"Please enter a valid number.\")\n",
    "\n",
    "   else: \n",
    "       \n",
    "       while curr_value < 100:\n",
    "            curr_value = curr_value*2\n",
    "            print(curr_value, end=\" \")\n",
    "\n",
    "   \n",
    "    \n",
    "\n",
    "\n",
    "\n",
    "\n",
    "if __name__ == '__main__':\n",
    "    main()"
   ]
  }
 ],
 "metadata": {
  "kernelspec": {
   "display_name": "Python 3",
   "language": "python",
   "name": "python3"
  },
  "language_info": {
   "codemirror_mode": {
    "name": "ipython",
    "version": 3
   },
   "file_extension": ".py",
   "mimetype": "text/x-python",
   "name": "python",
   "nbconvert_exporter": "python",
   "pygments_lexer": "ipython3",
   "version": "3.12.9"
  }
 },
 "nbformat": 4,
 "nbformat_minor": 5
}
