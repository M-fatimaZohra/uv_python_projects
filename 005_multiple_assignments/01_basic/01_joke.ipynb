{
 "cells": [
  {
   "cell_type": "code",
   "execution_count": 14,
   "id": "1f37deb8",
   "metadata": {},
   "outputs": [
    {
     "name": "stdout",
     "output_type": "stream",
     "text": [
      "What do you want? \n",
      "Sorry I only tell jokes.\n"
     ]
    }
   ],
   "source": [
    "PROMPT: str = \"What do you want? \"\n",
    "JOKE: str =\"\"\"\n",
    "Here is a joke for you!\n",
    "  Panaversity GPT - Sophia is heading out to the grocery store.\n",
    "  A programmer tells her: get a liter of milk, and if they have eggs, get 12.\n",
    "  Sophia returns with 13 liters of milk.\n",
    "  The programmer asks why and Sophia replies: 'because they had eggs'\"\"\"\n",
    "SORRY: str = \"Sorry I only tell jokes.\"\n",
    "\n",
    "def main():\n",
    "    print(PROMPT)\n",
    "    joke = input(\"Enter your request: \").lower()\n",
    "\n",
    "    if joke == \"joke\":\n",
    "        print(JOKE)\n",
    "        \n",
    "\n",
    "    else:\n",
    "        print(SORRY)\n",
    "if __name__ == '__main__':\n",
    "    main()"
   ]
  }
 ],
 "metadata": {
  "kernelspec": {
   "display_name": "Python 3",
   "language": "python",
   "name": "python3"
  },
  "language_info": {
   "codemirror_mode": {
    "name": "ipython",
    "version": 3
   },
   "file_extension": ".py",
   "mimetype": "text/x-python",
   "name": "python",
   "nbconvert_exporter": "python",
   "pygments_lexer": "ipython3",
   "version": "3.12.9"
  }
 },
 "nbformat": 4,
 "nbformat_minor": 5
}
