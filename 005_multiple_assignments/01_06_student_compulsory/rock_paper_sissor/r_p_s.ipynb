{
 "cells": [
  {
   "cell_type": "code",
   "execution_count": 6,
   "id": "5662d82a",
   "metadata": {},
   "outputs": [
    {
     "data": {
      "text/plain": [
       "'you won'"
      ]
     },
     "execution_count": 6,
     "metadata": {},
     "output_type": "execute_result"
    }
   ],
   "source": [
    "import random\n",
    "\n",
    "def game():\n",
    "\n",
    "    user = input(f\"\\\n",
    "                 r for rock\\\n",
    "                 p for paper\\\n",
    "                 s for sissor\\\n",
    "                   \")\n",
    "    \n",
    "    computer = random.choice([\"r\",\"p\",\"s\"])\n",
    "\n",
    "\n",
    "    if user == computer:\n",
    "        return \"It\\'s a tie!\"\n",
    "    \n",
    "    if is_win(user, computer):\n",
    "        return \"you won\"\n",
    "    \n",
    "    return \"you lose!\"\n",
    "\n",
    "def is_win(player,opponent):\n",
    "    if (player == \"r\" and opponent == \"s\") or (player == \"s\" and opponent == \"p\")\\\n",
    "          or (player == \"p\" and opponent == \"r\"):\n",
    "            return True\n",
    "    \n",
    "\n",
    "\n",
    "game()\n"
   ]
  }
 ],
 "metadata": {
  "kernelspec": {
   "display_name": "Python 3",
   "language": "python",
   "name": "python3"
  },
  "language_info": {
   "codemirror_mode": {
    "name": "ipython",
    "version": 3
   },
   "file_extension": ".py",
   "mimetype": "text/x-python",
   "name": "python",
   "nbconvert_exporter": "python",
   "pygments_lexer": "ipython3",
   "version": "3.12.9"
  }
 },
 "nbformat": 4,
 "nbformat_minor": 5
}
