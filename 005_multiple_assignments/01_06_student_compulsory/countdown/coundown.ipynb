{
 "cells": [
  {
   "cell_type": "code",
   "execution_count": 4,
   "id": "ed8f98c0",
   "metadata": {},
   "outputs": [
    {
     "name": "stdout",
     "output_type": "stream",
     "text": [
      "Time's UP!!!\n"
     ]
    }
   ],
   "source": [
    "import time\n",
    "\n",
    "def countdown(ti):\n",
    "    while ti:\n",
    "        mins, secs = divmod(ti, 60)\n",
    "        timer =\"{:02d}:{:02d}\".format(mins,secs)\n",
    "        print(timer, end= \"\\r\")\n",
    "        time.sleep(1)\n",
    "        ti-=1\n",
    "\n",
    "    print(\"Time's UP!!!\")\n",
    "\n",
    "ti = input(\"Enter the time in seconds: \")\n",
    "\n",
    "\n",
    "countdown(int(ti))\n",
    "\n"
   ]
  }
 ],
 "metadata": {
  "kernelspec": {
   "display_name": "Python 3",
   "language": "python",
   "name": "python3"
  },
  "language_info": {
   "codemirror_mode": {
    "name": "ipython",
    "version": 3
   },
   "file_extension": ".py",
   "mimetype": "text/x-python",
   "name": "python",
   "nbconvert_exporter": "python",
   "pygments_lexer": "ipython3",
   "version": "3.12.9"
  }
 },
 "nbformat": 4,
 "nbformat_minor": 5
}
