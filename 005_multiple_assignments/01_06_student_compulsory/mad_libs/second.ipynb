{
 "cells": [
  {
   "cell_type": "code",
   "execution_count": null,
   "id": "5532c930",
   "metadata": {},
   "outputs": [
    {
     "name": "stdout",
     "output_type": "stream",
     "text": [
      "One bright morning, Alan woke up feeling incredibly Strong.They put on their favorite suit and ran outside to greet a giant cat.Together,they go to expore london street, where they meet Mashmallo\n"
     ]
    }
   ],
   "source": [
    "\n",
    "adjective = input(\"Adjective: \")\n",
    "adjective2 = input(\"Adjective 2:\")\n",
    "adjective3 = input(\"Adjective 3:\")\n",
    "name = input(\"Name: \")\n",
    "location = input(\"Location: \")\n",
    "item = input(\"Item: \")\n",
    "animal = input(\"Animal: \")\n",
    "place = input(\"Place: \")\n",
    "pet_name = input(\"Pet Name: \")\n",
    "\n",
    "\n",
    "\n",
    "madlib = f\"Under the {location}, {name} felt {adjective} and {adjective2}.\\\n",
    "they grabbed their {adjective3} {item} and set off into the {place}.\\\n",
    "Along the way, she discovered a talking {animal} named {pet_name}.\"\n",
    "\n",
    "\n",
    "\n",
    "print(madlib)\n",
    "\n",
    "\n",
    "\n"
   ]
  }
 ],
 "metadata": {
  "kernelspec": {
   "display_name": "Python 3",
   "language": "python",
   "name": "python3"
  },
  "language_info": {
   "codemirror_mode": {
    "name": "ipython",
    "version": 3
   },
   "file_extension": ".py",
   "mimetype": "text/x-python",
   "name": "python",
   "nbconvert_exporter": "python",
   "pygments_lexer": "ipython3",
   "version": "3.12.9"
  }
 },
 "nbformat": 4,
 "nbformat_minor": 5
}
