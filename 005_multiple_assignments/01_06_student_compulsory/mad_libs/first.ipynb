{
 "cells": [
  {
   "cell_type": "code",
   "execution_count": null,
   "id": "5532c930",
   "metadata": {},
   "outputs": [
    {
     "name": "stdout",
     "output_type": "stream",
     "text": [
      "One bright morning, Alan woke up feeling incredibly Strong.They put on their favorite suit and ran outside to greet a giant cat.Together,they go to expore london street, where they meet Mashmallo\n"
     ]
    }
   ],
   "source": [
    "\n",
    "\n",
    "adjective = input(\"Adjective: \")\n",
    "name = input(\"Name: \")\n",
    "outfit = input(\"Outfit: \")\n",
    "animal = input(\"Animal: \")\n",
    "place = input(\"Place: \")\n",
    "famous_person = input(\"Famous Person: \")\n",
    "\n",
    "\n",
    "\n",
    "madlib = f\"One bright morning, {name} woke up feeling incredibly {adjective}.\\\n",
    "They put on their favorite {outfit} and ran outside to greet their {animal}.\\\n",
    "Together,they went to explore the {place}, where they meet {famous_person}\"\n",
    "\n",
    "\n",
    "\n",
    "print(madlib)\n",
    "\n",
    "\n",
    "\n"
   ]
  }
 ],
 "metadata": {
  "kernelspec": {
   "display_name": "Python 3",
   "language": "python",
   "name": "python3"
  },
  "language_info": {
   "codemirror_mode": {
    "name": "ipython",
    "version": 3
   },
   "file_extension": ".py",
   "mimetype": "text/x-python",
   "name": "python",
   "nbconvert_exporter": "python",
   "pygments_lexer": "ipython3",
   "version": "3.12.9"
  }
 },
 "nbformat": 4,
 "nbformat_minor": 5
}
