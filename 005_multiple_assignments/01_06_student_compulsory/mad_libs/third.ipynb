{
 "cells": [
  {
   "cell_type": "code",
   "execution_count": null,
   "id": "5532c930",
   "metadata": {},
   "outputs": [
    {
     "name": "stdout",
     "output_type": "stream",
     "text": [
      "One bright morning, Alan woke up feeling incredibly Strong.They put on their favorite suit and ran outside to greet a giant cat.Together,they go to expore london street, where they meet Mashmallo\n"
     ]
    }
   ],
   "source": [
    "\n",
    "\n",
    "adjective = input(\"Adjective: \")\n",
    "adjective2 = input(\"Adjective 2: \")\n",
    "vehicle = input(\"Vehicle: \")\n",
    "name = input(\"Name: \")\n",
    "weather = input(\"Weather: \")\n",
    "item = input(\"Item:\")\n",
    "big_obj = input(\"Big Object: \")\n",
    "place = input(\"Place: \")\n",
    "\n",
    "\n",
    "\n",
    "\n",
    "madlib = f\"On a {weather} afternoon, {name} woke up {adjective} and {adjective2}.\\\n",
    "He hopped on his sparkling {vehicle} and zipped through the busy {place}.\\\n",
    "There, he stumbled upon a {item} hidden beneath a {big_obj}.\"\n",
    "\n",
    "\n",
    "\n",
    "print(madlib)\n",
    "\n",
    "\n",
    "\n"
   ]
  }
 ],
 "metadata": {
  "kernelspec": {
   "display_name": "Python 3",
   "language": "python",
   "name": "python3"
  },
  "language_info": {
   "codemirror_mode": {
    "name": "ipython",
    "version": 3
   },
   "file_extension": ".py",
   "mimetype": "text/x-python",
   "name": "python",
   "nbconvert_exporter": "python",
   "pygments_lexer": "ipython3",
   "version": "3.12.9"
  }
 },
 "nbformat": 4,
 "nbformat_minor": 5
}
