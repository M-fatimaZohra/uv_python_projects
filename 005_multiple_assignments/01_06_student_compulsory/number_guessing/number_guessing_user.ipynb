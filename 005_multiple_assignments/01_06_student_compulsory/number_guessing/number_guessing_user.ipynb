{
 "cells": [
  {
   "cell_type": "code",
   "execution_count": 1,
   "id": "23159e71",
   "metadata": {},
   "outputs": [
    {
     "name": "stdout",
     "output_type": "stream",
     "text": [
      "Yay! The computer guessed your number 16, correctly!\n"
     ]
    }
   ],
   "source": [
    "import random\n",
    "\n",
    "def computer_guess(x):\n",
    "    lower = 1\n",
    "    high = x\n",
    "    feedback = ''\n",
    "    while feedback != 'c':\n",
    "        if lower != high:\n",
    "            guess = random.randint(lower, high)\n",
    "        else:\n",
    "            guess = lower \n",
    "        feedback = input(f'Is {guess} too high (H), too low (L), or correct (C)? ').lower()\n",
    "        if feedback == 'h':\n",
    "            high = guess - 1\n",
    "        elif feedback == 'l':\n",
    "            lower = guess + 1\n",
    "\n",
    "    print(f'Yay! The computer guessed your number {guess}, correctly!')\n",
    "\n",
    "\n",
    "computer_guess(50)"
   ]
  }
 ],
 "metadata": {
  "kernelspec": {
   "display_name": "Python 3",
   "language": "python",
   "name": "python3"
  },
  "language_info": {
   "codemirror_mode": {
    "name": "ipython",
    "version": 3
   },
   "file_extension": ".py",
   "mimetype": "text/x-python",
   "name": "python",
   "nbconvert_exporter": "python",
   "pygments_lexer": "ipython3",
   "version": "3.12.9"
  }
 },
 "nbformat": 4,
 "nbformat_minor": 5
}
